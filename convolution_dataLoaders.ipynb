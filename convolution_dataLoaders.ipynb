{
  "nbformat": 4,
  "nbformat_minor": 0,
  "metadata": {
    "colab": {
      "provenance": [],
      "authorship_tag": "ABX9TyP0O56eFsyLas03/XcJdJo8",
      "include_colab_link": true
    },
    "kernelspec": {
      "name": "python3",
      "display_name": "Python 3"
    },
    "language_info": {
      "name": "python"
    }
  },
  "cells": [
    {
      "cell_type": "markdown",
      "metadata": {
        "id": "view-in-github",
        "colab_type": "text"
      },
      "source": [
        "<a href=\"https://colab.research.google.com/github/ProvenDruid/convolution/blob/main/convolution_dataLoaders.ipynb\" target=\"_parent\"><img src=\"https://colab.research.google.com/assets/colab-badge.svg\" alt=\"Open In Colab\"/></a>"
      ]
    },
    {
      "cell_type": "code",
      "execution_count": null,
      "metadata": {
        "id": "zeX1jrsbtUiQ"
      },
      "outputs": [],
      "source": [
        "# import libraries\n",
        "import numpy as np\n",
        "import torch\n",
        "\n",
        "# import transformations and dataset/loader\n",
        "import torchvision\n",
        "import torchvision.transforms as T\n",
        "from torch.utils.data import Dataset,DataLoader\n",
        "\n",
        "import matplotlib.pyplot as plt\n",
        "from IPython import display\n",
        "from matplotlib_inline.backend_inline import set_matplotlib_formats"
      ]
    },
    {
      "cell_type": "code",
      "source": [
        "# import dataset (comes with colab!)\n",
        "data = np.loadtxt(open('sample_data/mnist_train_small.csv','rb'),delimiter=',')"
      ],
      "metadata": {
        "id": "CNnz6RfLuhqy"
      },
      "execution_count": null,
      "outputs": []
    },
    {
      "cell_type": "code",
      "source": [
        "# extract only the first 8\n",
        "labels = data[:8,0]\n",
        "data   = data[:8,1:]\n",
        "\n",
        "# normalize the data to a range of [0 1]\n",
        "dataNorm = data / np.max(data)\n",
        "\n",
        "# reshape to 2D!\n",
        "dataNorm = dataNorm.reshape(dataNorm.shape[0],1,28,28)\n",
        "\n",
        "# check sizes\n",
        "print(dataNorm.shape)\n",
        "print(labels.shape)\n",
        "\n",
        "# convert to torch tensor format\n",
        "dataT   = torch.tensor( dataNorm ).float()\n",
        "labelsT = torch.tensor( labels ).long()"
      ],
      "metadata": {
        "colab": {
          "base_uri": "https://localhost:8080/"
        },
        "id": "G-NYxES2uWO7",
        "outputId": "1ab2060b-88e5-4bc2-d24b-ecabf34d2328"
      },
      "execution_count": null,
      "outputs": [
        {
          "output_type": "stream",
          "name": "stdout",
          "text": [
            "(8, 1, 28, 28)\n",
            "(8,)\n"
          ]
        }
      ]
    },
    {
      "cell_type": "code",
      "source": [
        "class customDataset(Dataset):\n",
        "  def __init__(self, tensors, transform=None):\n",
        "\n",
        "    # check that sizes of data and labels match\n",
        "    assert all(tensors[0].size(0)==t.size(0) for t in tensors), \"Size mismatch between tensors\"\n",
        "\n",
        "    # assign inputs\n",
        "    self.tensors   = tensors\n",
        "    self.transform = transform\n",
        "\n",
        "  # what to do when someone wants and item from the dataset\n",
        "  def __getitem__(self, index):\n",
        "\n",
        "    # return transformed version of x if there are transforms\n",
        "    if self.transform:\n",
        "      x = self.transform(self.tensors[0][index])\n",
        "    else:\n",
        "      x = self.tensors[0][index]\n",
        "\n",
        "    # and return label\n",
        "    y = self.tensors[1][index]\n",
        "\n",
        "    return x,y # return the (data,label) tuple\n",
        "\n",
        "  def __len__(self):\n",
        "    return self.tensors[0].size(0)"
      ],
      "metadata": {
        "id": "bL7EHI6KvI3y"
      },
      "execution_count": null,
      "outputs": []
    },
    {
      "cell_type": "code",
      "source": [
        "# Note: several transforms work only on PIL-format data, so it's common to transform\n",
        "#       to PIL, apply transformations, then transform back to tensor.\n",
        "\n",
        "# create a list of transforms to apply to the image\n",
        "imgtrans = T.Compose([\n",
        "                      T.ToPILImage(),\n",
        "                      T.RandomVerticalFlip(p=.5),\n",
        "                      # T.RandomRotation(90),\n",
        "                      T.ToTensor()\n",
        "                       ])"
      ],
      "metadata": {
        "id": "xCpPUwXGwFHJ"
      },
      "execution_count": null,
      "outputs": []
    },
    {
      "cell_type": "code",
      "source": [
        "# now convert the data into datasets and then dataloaders\n",
        "\n",
        "# convert into PyTorch Datasets\n",
        "# NOTE: we have no test data here, but you should apply the same transformations to the test data\n",
        "train_data = customDataset((dataT,labelsT),imgtrans)\n",
        "\n",
        "# translate into dataloader objects\n",
        "dataLoaded = DataLoader(train_data,batch_size=8,shuffle=False)"
      ],
      "metadata": {
        "id": "JlCHRPk8y_E5"
      },
      "execution_count": null,
      "outputs": []
    },
    {
      "cell_type": "code",
      "source": [
        "type(train_data)"
      ],
      "metadata": {
        "colab": {
          "base_uri": "https://localhost:8080/"
        },
        "id": "PFEVMcnNzB6a",
        "outputId": "b7d9d5bf-aa95-4ec6-cd22-d99fc97c29d1"
      },
      "execution_count": null,
      "outputs": [
        {
          "output_type": "execute_result",
          "data": {
            "text/plain": [
              "__main__.customDataset"
            ]
          },
          "metadata": {},
          "execution_count": 18
        }
      ]
    },
    {
      "cell_type": "code",
      "source": [
        "# import data from the dataloader, just like during training\n",
        "X,y = next(iter(dataLoaded))\n",
        "\n",
        "\n",
        "# create a figure\n",
        "fig,axs = plt.subplots(2,8,figsize=(16,4))\n",
        "\n",
        "\n",
        "# loop over images in the dataset\n",
        "for i in range(8):\n",
        "\n",
        "  # draw images\n",
        "  axs[0,i].imshow(dataT[i,0,:,:].detach(),cmap='gray')\n",
        "  axs[1,i].imshow(X[i,0,:,:].detach(),cmap='gray')\n",
        "\n",
        "  # some niceties\n",
        "  for row in range(2):\n",
        "    axs[row,i].set_xticks([])\n",
        "    axs[row,i].set_yticks([])\n",
        "\n",
        "# row labels\n",
        "axs[0,0].set_ylabel('Original')\n",
        "axs[1,0].set_ylabel('torch dataset')\n",
        "\n",
        "plt.show()"
      ],
      "metadata": {
        "colab": {
          "base_uri": "https://localhost:8080/",
          "height": 242
        },
        "id": "AxBt8obPzJNB",
        "outputId": "a67e3ac3-9f9c-4537-de59-eb653f9b58ee"
      },
      "execution_count": null,
      "outputs": [
        {
          "output_type": "display_data",
          "data": {
            "text/plain": [
              "<Figure size 1600x400 with 16 Axes>"
            ],
            "image/png": "[encoded data removed]"
          },
          "metadata": {}
        }
      ]
    }
  ]
}